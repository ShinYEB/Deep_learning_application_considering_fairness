{
 "cells": [
  {
   "cell_type": "code",
   "execution_count": null,
   "metadata": {},
   "outputs": [],
   "source": [
    "import torchvision\n",
    "import torch\n",
    "from torchvision import transforms\n",
    "from torch.utils.data import DataLoader\n",
    "\n",
    "device = torch.device('cpu')\n",
    "\n",
    "batch_size = 1\n",
    "\n",
    "trans = transforms.Compose([transforms.Resize((256, 256)), \n",
    "                            transforms.ToTensor(),\n",
    "                            transforms.Normalize((0.5,0.5,0.5), (0.5,0.5,0.5))])\n",
    "\n",
    "trainset = torchvision.datasets.ImageFolder(root = \"../input_data\", \n",
    "\t\t\t\t\ttransform = trans\n",
    "                    )\n",
    "\n",
    "dataLoader = DataLoader(trainset, batch_size=batch_size, shuffle=True, drop_last=True)\n"
   ]
  },
  {
   "cell_type": "code",
   "execution_count": 2,
   "metadata": {},
   "outputs": [],
   "source": [
    "from models.e4e.encoders.psp_encoders import Encoder4Editing\n",
    "from configs import paths_config\n",
    "from argparse import Namespace\n",
    "import torch\n",
    "\n",
    "ckpt = torch.load(paths_config.e4e, map_location='cpu')\n",
    "opts = ckpt['opts']\n",
    "opts['checkpoint_path'] = paths_config.e4e\n",
    "opts = Namespace(**opts)\n",
    "\n",
    "encoder = Encoder4Editing(num_layers=50, mode='ir_se', opts=opts).to(device)\n",
    "\n"
   ]
  },
  {
   "cell_type": "code",
   "execution_count": 3,
   "metadata": {},
   "outputs": [],
   "source": [
    "from sklearn.linear_model import SGDClassifier\n",
    "import numpy as np\n",
    "\n",
    "model = SGDClassifier(\n",
    "    loss=\"log_loss\",  # Logistic Regression을 위한 손실 함수\n",
    "    penalty=\"elasticnet\",\n",
    "    l1_ratio=0.1,\n",
    "    max_iter=1,  # 각 배치에서 1번의 에포크\n",
    "    warm_start=True  # 이전 상태를 유지하며 학습\n",
    ")"
   ]
  },
  {
   "cell_type": "code",
   "execution_count": null,
   "metadata": {},
   "outputs": [
    {
     "name": "stderr",
     "output_type": "stream",
     "text": [
      "100%|██████████| 75720/75720 [12:55:49<00:00,  1.63it/s]  \n",
      "100%|██████████| 75720/75720 [12:01:35<00:00,  1.75it/s]  \n",
      "100%|██████████| 75720/75720 [10:53:40<00:00,  1.93it/s] \n",
      "100%|██████████| 75720/75720 [13:13:45<00:00,  1.59it/s]  \n",
      "100%|██████████| 75720/75720 [11:32:37<00:00,  1.82it/s]  \n"
     ]
    }
   ],
   "source": [
    "from tqdm import tqdm\n",
    "\n",
    "classes = np.unique([0, 1])\n",
    "\n",
    "for epoch in range(5):\n",
    "    for src, tgt in tqdm(dataLoader):\n",
    "        \n",
    "        out = encoder(src).reshape(batch_size, -1).detach().numpy()\n",
    "        tgt = tgt.detach().numpy()\n",
    "\n",
    "        model.partial_fit(out, tgt, classes=classes)\n",
    "            \n",
    "\n",
    "direction = model.coef_.reshape(18, 512)\n",
    "np.save(f'w_direction.npy', direction)"
   ]
  }
 ],
 "metadata": {
  "kernelspec": {
   "display_name": "pt",
   "language": "python",
   "name": "python3"
  },
  "language_info": {
   "codemirror_mode": {
    "name": "ipython",
    "version": 3
   },
   "file_extension": ".py",
   "mimetype": "text/x-python",
   "name": "python",
   "nbconvert_exporter": "python",
   "pygments_lexer": "ipython3",
   "version": "3.8.18"
  }
 },
 "nbformat": 4,
 "nbformat_minor": 2
}
